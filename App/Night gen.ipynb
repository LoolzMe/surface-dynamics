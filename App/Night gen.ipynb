{
 "cells": [
  {
   "cell_type": "code",
   "execution_count": 1,
   "id": "7155a326",
   "metadata": {},
   "outputs": [],
   "source": [
    "import surface_dynamics.topology.fat_graph_exhaustive_generation as fatGraphGenerator\n",
    "import surface_dynamics.topology.fat_graph as fatGraph\n",
    "from surface_dynamics.topology.fat_graph import FatGraph\n",
    "import surface_dynamics.topology.open_jacobi_exhaustive_generation as openJD\n",
    "import time\n",
    "import importlib\n",
    "\n",
    "from sage.rings.all import ZZ, QQ"
   ]
  },
  {
   "cell_type": "code",
   "execution_count": null,
   "id": "234b7062",
   "metadata": {},
   "outputs": [],
   "source": [
    "nv3 = 6 + 2 # 3 chords, 2 hairs\n",
    "nh = 2\n",
    "\n",
    "F = openJD.openJDGenerator(nv3=nv3, nh=nh)\n",
    "F = F.getGraphs()\n",
    "print(len(F))"
   ]
  },
  {
   "cell_type": "code",
   "execution_count": null,
   "id": "fcd4383f",
   "metadata": {},
   "outputs": [],
   "source": [
    "openJD.saveGraphs(F, \"notReducedGraphs_8_2.json\")"
   ]
  },
  {
   "cell_type": "markdown",
   "id": "c0d180b5",
   "metadata": {},
   "source": [
    "If Im feeling lucky"
   ]
  },
  {
   "cell_type": "code",
   "execution_count": null,
   "id": "ea3671b8",
   "metadata": {},
   "outputs": [],
   "source": [
    "nv3 = 4 + 4 # 2 chords, 4 hairs\n",
    "nh = 4\n",
    "\n",
    "F = openJD.openJDGenerator(nv3=nv3, nh=nh)\n",
    "F = F.getGraphs()\n",
    "print(len(F))"
   ]
  },
  {
   "cell_type": "code",
   "execution_count": null,
   "id": "0d839e69",
   "metadata": {},
   "outputs": [],
   "source": [
    "openJD.saveGraphs(F, \"notReducedGraphs_8_4.json\")"
   ]
  },
  {
   "cell_type": "code",
   "execution_count": null,
   "id": "cf01af12",
   "metadata": {},
   "outputs": [],
   "source": [
    "nv3 = 2 + 6 # 1 chords, 6 hairs\n",
    "nh = 6\n",
    "\n",
    "F = openJD.openJDGenerator(nv3=nv3, nh=nh)\n",
    "F = F.getGraphs()\n",
    "print(len(F))"
   ]
  },
  {
   "cell_type": "code",
   "execution_count": null,
   "id": "6f757968",
   "metadata": {},
   "outputs": [],
   "source": [
    "openJD.saveGraphs(F, \"notReducedGraphs_8_6.json\")"
   ]
  }
 ],
 "metadata": {
  "kernelspec": {
   "display_name": "SageMath 9.7",
   "language": "sage",
   "name": "sagemath"
  },
  "language_info": {
   "codemirror_mode": {
    "name": "ipython",
    "version": 3
   },
   "file_extension": ".py",
   "mimetype": "text/x-python",
   "name": "python",
   "nbconvert_exporter": "python",
   "pygments_lexer": "ipython3",
   "version": "3.10.5"
  }
 },
 "nbformat": 4,
 "nbformat_minor": 5
}
